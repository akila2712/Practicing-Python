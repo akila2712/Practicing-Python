{
 "cells": [
  {
   "cell_type": "markdown",
   "metadata": {},
   "source": [
    "List\n",
    "\n",
    "It is similar to arrays in other languages. It may contain different data types (not homogeneous) like integers, strings, as well as objects in a single list and there can be a list or tuple within a list.\n",
    "Lists are mutable, it means that they can be altered after creation. Like in other languages index of the first element starts with zero. \n",
    "Lists in python can be created by just placing the sequence inside the square brackets[]."
   ]
  },
  {
   "cell_type": "code",
   "execution_count": 14,
   "metadata": {},
   "outputs": [
    {
     "name": "stdout",
     "output_type": "stream",
     "text": [
      "['hi', 'bob', 'how', 'are', 'you']\n"
     ]
    }
   ],
   "source": [
    "list1 = ['hi','bob','how','are','you']\n",
    "print(list1)"
   ]
  },
  {
   "cell_type": "markdown",
   "metadata": {},
   "source": [
    "List may contain duplicate values with their distinct positions and hence, multiple distinct or duplicate values can be passed as a sequence at the time of list creation."
   ]
  },
  {
   "cell_type": "markdown",
   "metadata": {},
   "source": [
    "Some Built-in functions\n",
    "\n",
    "1. append() - used to add elements to the list. It adds elements to the end of the list. It requires only one argument (value)\n"
   ]
  },
  {
   "cell_type": "code",
   "execution_count": 15,
   "metadata": {},
   "outputs": [
    {
     "name": "stdout",
     "output_type": "stream",
     "text": [
      "['hi', 'bob', ['how', 'are', 'you']]\n"
     ]
    }
   ],
   "source": [
    "list1=['hi','bob',]\n",
    "list2=['how','are','you']\n",
    "list1.append(list2)\n",
    "print(list1)"
   ]
  },
  {
   "cell_type": "markdown",
   "metadata": {},
   "source": [
    "2. insert() - used to add elements to the desired position. It requires two arguments (position, value)"
   ]
  },
  {
   "cell_type": "code",
   "execution_count": 17,
   "metadata": {},
   "outputs": [
    {
     "name": "stdout",
     "output_type": "stream",
     "text": [
      "['hi', 'bob', ',', 'how', 'are', 'you']\n"
     ]
    }
   ],
   "source": [
    "list1=['hi','bob','how','are','you']\n",
    "list1.insert(2,',')\n",
    "print(list1)"
   ]
  },
  {
   "cell_type": "markdown",
   "metadata": {},
   "source": [
    "3. extend() - used to add multiple elements at the same time at the end of the list."
   ]
  },
  {
   "cell_type": "code",
   "execution_count": 18,
   "metadata": {},
   "outputs": [
    {
     "name": "stdout",
     "output_type": "stream",
     "text": [
      "['hi', 'bob', 'how', 'are', 'you', '?', 'hello']\n"
     ]
    }
   ],
   "source": [
    "list1=['hi','bob','how','are','you']\n",
    "list1.extend(['?','hello'])\n",
    "print(list1)"
   ]
  },
  {
   "cell_type": "markdown",
   "metadata": {},
   "source": [
    "Difference between append and extend\n",
    "\n",
    "Append adds its argument as a single element to the end of a list. The length of the list itself will increase by one.\n",
    "\n",
    "Extend iterates over its argument adding each element to the list, extending the list. The length of the list will increase by however many elements were in the iterable argument.\n"
   ]
  },
  {
   "cell_type": "markdown",
   "metadata": {},
   "source": [
    "4. remove() - used to remove one element at a time, to remove range of elements, iterator is used."
   ]
  },
  {
   "cell_type": "code",
   "execution_count": 24,
   "metadata": {},
   "outputs": [
    {
     "name": "stdout",
     "output_type": "stream",
     "text": [
      "['hi', 'bob', 'how', 'are', 'you', '?']\n"
     ]
    }
   ],
   "source": [
    "list1=['hi', 'bob', 'how', 'are', 'you', '?', 'hello']\n",
    "list1.remove('hello')\n",
    "print(list1)"
   ]
  },
  {
   "cell_type": "code",
   "execution_count": 22,
   "metadata": {},
   "outputs": [
    {
     "name": "stdout",
     "output_type": "stream",
     "text": [
      "[5, 6, 7, 8, 9, 10]\n"
     ]
    }
   ],
   "source": [
    "#Removing range of elements\n",
    "List = [1, 2, 3, 4, 5, 6, 7, 8, 9, 10]\n",
    "for i in range(1, 5): \n",
    "    List.remove(i)\n",
    "print(List)"
   ]
  },
  {
   "cell_type": "markdown",
   "metadata": {},
   "source": [
    "4. pop() - used to remove and return an element from the set, but by default it removes only the last element of the set, to remove element from a specific position of the List, index of the element is passed as an argument to the method."
   ]
  },
  {
   "cell_type": "code",
   "execution_count": 37,
   "metadata": {},
   "outputs": [
    {
     "name": "stdout",
     "output_type": "stream",
     "text": [
      "['bob', 'how', 'are', 'you', '?', 'hello']\n"
     ]
    }
   ],
   "source": [
    "list1=['hi', 'bob', 'how', 'are', 'you', '?', 'hello']\n",
    "list1.pop(0)\n",
    "print(list1)"
   ]
  },
  {
   "cell_type": "markdown",
   "metadata": {},
   "source": [
    "Accessing elements from the List\n",
    "\n",
    "In order to access the list items refer to the index number. Use the index operator [ ] to access an item in a list. The index must be an integer. Nested list are accessed using nested indexing."
   ]
  },
  {
   "cell_type": "code",
   "execution_count": 25,
   "metadata": {},
   "outputs": [
    {
     "name": "stdout",
     "output_type": "stream",
     "text": [
      "bob\n"
     ]
    }
   ],
   "source": [
    "list1 = ['hi','bob','how','are','you']\n",
    "print(list1[1])"
   ]
  },
  {
   "cell_type": "code",
   "execution_count": 27,
   "metadata": {},
   "outputs": [
    {
     "name": "stdout",
     "output_type": "stream",
     "text": [
      "you\n"
     ]
    }
   ],
   "source": [
    "#Accessing Nested list elements\n",
    "list1 = [['hi','bob'],['how','are','you']]\n",
    "print(list1[1][2])"
   ]
  },
  {
   "cell_type": "markdown",
   "metadata": {},
   "source": [
    "Negative Indexing\n",
    "\n",
    "Indexing starts from end of the list. Index of the last element is -1 and for last second element is -2 and so on."
   ]
  },
  {
   "cell_type": "markdown",
   "metadata": {},
   "source": [
    "Slicing of a List\n",
    "\n",
    "-to print a specific range of elements from the list, we use Slice operation. It is performed on lists by using colon(:)\n",
    "-to print elements from beginning to a range use [:Index], to print elements from end use [:-Index], to print elements from specific Index till the end use [Index:], to print elements within a range, use [Start Index:End Index] and to print whole List with the use "
   ]
  },
  {
   "cell_type": "code",
   "execution_count": 30,
   "metadata": {},
   "outputs": [
    {
     "name": "stdout",
     "output_type": "stream",
     "text": [
      "['how', 'are', 'you']\n",
      "['hi']\n",
      "['you', 'are', 'how', 'bob', 'hi']\n"
     ]
    }
   ],
   "source": [
    "list1 = ['hi','bob','how','are','you']\n",
    "print(list1[2:])\n",
    "print(list1[0:1])\n",
    "print(list1[::-1])#used to reverse the list"
   ]
  },
  {
   "cell_type": "markdown",
   "metadata": {},
   "source": [
    "Deleting a list\n",
    "\n",
    "We can delete elements from the list using \"del\" keyword."
   ]
  },
  {
   "cell_type": "code",
   "execution_count": 33,
   "metadata": {},
   "outputs": [
    {
     "ename": "NameError",
     "evalue": "name 'list1' is not defined",
     "output_type": "error",
     "traceback": [
      "\u001b[1;31m---------------------------------------------------------------------------\u001b[0m",
      "\u001b[1;31mNameError\u001b[0m                                 Traceback (most recent call last)",
      "\u001b[1;32m<ipython-input-33-6c139e717187>\u001b[0m in \u001b[0;36m<module>\u001b[1;34m\u001b[0m\n\u001b[0;32m      1\u001b[0m \u001b[0mlist1\u001b[0m \u001b[1;33m=\u001b[0m \u001b[1;33m[\u001b[0m\u001b[1;34m'hi'\u001b[0m\u001b[1;33m,\u001b[0m\u001b[1;34m'bob'\u001b[0m\u001b[1;33m,\u001b[0m\u001b[1;34m'how'\u001b[0m\u001b[1;33m,\u001b[0m\u001b[1;34m'are'\u001b[0m\u001b[1;33m,\u001b[0m\u001b[1;34m'you'\u001b[0m\u001b[1;33m]\u001b[0m\u001b[1;33m\u001b[0m\u001b[1;33m\u001b[0m\u001b[0m\n\u001b[0;32m      2\u001b[0m \u001b[1;32mdel\u001b[0m \u001b[0mlist1\u001b[0m\u001b[1;33m\u001b[0m\u001b[1;33m\u001b[0m\u001b[0m\n\u001b[1;32m----> 3\u001b[1;33m \u001b[0mprint\u001b[0m\u001b[1;33m(\u001b[0m\u001b[0mlist1\u001b[0m\u001b[1;33m)\u001b[0m\u001b[1;33m\u001b[0m\u001b[1;33m\u001b[0m\u001b[0m\n\u001b[0m",
      "\u001b[1;31mNameError\u001b[0m: name 'list1' is not defined"
     ]
    }
   ],
   "source": [
    "list1 = ['hi','bob','how','are','you']\n",
    "del list1\n",
    "print(list1)"
   ]
  },
  {
   "cell_type": "code",
   "execution_count": 40,
   "metadata": {},
   "outputs": [
    {
     "name": "stdout",
     "output_type": "stream",
     "text": [
      "['hi', 'bob']\n"
     ]
    }
   ],
   "source": [
    "list1 = ['hi','bob','how','are','you']\n",
    "del list1[2:]\n",
    "print(list1)"
   ]
  },
  {
   "cell_type": "markdown",
   "metadata": {},
   "source": [
    "List of Methods\n",
    "\n",
    "Append()-Add an element to the end of the list\n",
    "\n",
    "Extend()-Add all elements of a list to the another list\n",
    "\n",
    "Insert()-Insert an item at the defined index\n",
    "\n",
    "Remove()-Removes an item from the list\n",
    "\n",
    "Pop()-Removes and returns an element at the given index\n",
    "\n",
    "Clear()-Removes all items from the list\n",
    "\n",
    "Index()-Returns the index of the first matched item\n",
    "\n",
    "Count()-Returns the count of number of items passed as an argument\n",
    "\n",
    "Sort()-Sort items in a list in ascending order\n",
    "\n",
    "Reverse()-Reverse the order of items in the list\n",
    "\n",
    "copy()-Returns a copy of the list\n",
    "\n",
    "\n"
   ]
  },
  {
   "cell_type": "markdown",
   "metadata": {},
   "source": [
    "\n",
    "\n",
    "Built-in Functions with List\n",
    "\n",
    "reduce()-apply a particular function passed in its argument to all of the list elements stores the intermediate result and only returns the final summation value\n",
    "\n",
    "sum()-Sums up the numbers in the list\n",
    "\n",
    "ord()-Returns an integer representing the Unicode code point of the given Unicode character\n",
    "\n",
    "cmp()-This function returns 1, if first list is “greater” than second list\n",
    "\n",
    "max()-return maximum element of given list\n",
    "\n",
    "min()-return minimum element of given list\n",
    "\n",
    "all()-Returns true if all element are true or if list is empty\n",
    "\n",
    "any()-return true if any element of the list is true. if list is empty, return false\n",
    "\n",
    "len()-Returns length of the list or size of the list\n",
    "\n",
    "enumerate()-Returns enumerate object of list\n",
    "\n",
    "accumulate()-apply a particular function passed in its argument to all of the list elements returns a list containing the intermediate results\n",
    "\n",
    "filter()-tests if each element of a list true or not\n",
    "\n",
    "map()-returns a list of the results after applying the given function to each item of a given iterable\n",
    "\n",
    "lambda()-This function can have any number of arguments but only one expression, which is evaluated and returned.\n",
    "         Instead of normal function, we can use lambda function to perform certain operations\n"
   ]
  },
  {
   "cell_type": "code",
   "execution_count": 39,
   "metadata": {},
   "outputs": [
    {
     "name": "stdout",
     "output_type": "stream",
     "text": [
      "125\n"
     ]
    }
   ],
   "source": [
    "x_cube=lambda x: x*x*x\n",
    "print(x_cube(5))"
   ]
  },
  {
   "cell_type": "markdown",
   "metadata": {},
   "source": [
    "Tuple\n",
    "\n",
    "Tuples are sequences, just like lists in terms of indexing, nested objects and repetition. The differences between tuples and lists are, the tuples cannot be changed unlike lists (immutable) and tuples use parentheses (), whereas lists use square brackets [].\n"
   ]
  },
  {
   "cell_type": "code",
   "execution_count": 42,
   "metadata": {},
   "outputs": [
    {
     "name": "stdout",
     "output_type": "stream",
     "text": [
      "(1996, 'march', 'may', 'september')\n"
     ]
    }
   ],
   "source": [
    "tuple1 = (1996,'march','may','september')\n",
    "print(tuple1)"
   ]
  },
  {
   "cell_type": "code",
   "execution_count": 43,
   "metadata": {},
   "outputs": [
    {
     "name": "stdout",
     "output_type": "stream",
     "text": [
      "(1996, 'march', 'may', 'september')\n"
     ]
    }
   ],
   "source": [
    "tuple1 = 1996,'march','may','september'\n",
    "print(tuple1) #another way of creating tuple"
   ]
  },
  {
   "cell_type": "code",
   "execution_count": 44,
   "metadata": {},
   "outputs": [
    {
     "name": "stdout",
     "output_type": "stream",
     "text": [
      "((1, 2, 3, 4), ('sarah', 'george', 'bob'))\n"
     ]
    }
   ],
   "source": [
    "#Nesting of tuples\n",
    "tuple1=(1,2,3,4)\n",
    "tuple2=('sarah','george','bob')\n",
    "tuple3=(tuple1,tuple2) \n",
    "print(tuple3)"
   ]
  },
  {
   "cell_type": "markdown",
   "metadata": {},
   "source": [
    "Basic Tuple Operations"
   ]
  },
  {
   "cell_type": "code",
   "execution_count": 45,
   "metadata": {},
   "outputs": [
    {
     "name": "stdout",
     "output_type": "stream",
     "text": [
      "3\n"
     ]
    }
   ],
   "source": [
    "#length\n",
    "print(len(('sarah','george','bob')))"
   ]
  },
  {
   "cell_type": "code",
   "execution_count": 46,
   "metadata": {},
   "outputs": [
    {
     "name": "stdout",
     "output_type": "stream",
     "text": [
      "(1, 2, 3, 4, 'sarah', 'george', 'bob', 'adam')\n"
     ]
    }
   ],
   "source": [
    "#Concatenation\n",
    "print(((1,2,3,4)+('sarah','george','bob','adam')))"
   ]
  },
  {
   "cell_type": "code",
   "execution_count": 47,
   "metadata": {},
   "outputs": [
    {
     "name": "stdout",
     "output_type": "stream",
     "text": [
      "('hi', 'hi', 'hi')\n"
     ]
    }
   ],
   "source": [
    "#Repetition\n",
    "print(('hi',)*3)"
   ]
  },
  {
   "cell_type": "code",
   "execution_count": 48,
   "metadata": {},
   "outputs": [
    {
     "name": "stdout",
     "output_type": "stream",
     "text": [
      "True\n"
     ]
    }
   ],
   "source": [
    "#Membership\n",
    "tuple1=(1, 2, 3, 4, 'sarah', 'george', 'bob', 'adam')\n",
    "if 3 in tuple1:\n",
    "    print(\"True\")"
   ]
  },
  {
   "cell_type": "code",
   "execution_count": 50,
   "metadata": {},
   "outputs": [
    {
     "name": "stdout",
     "output_type": "stream",
     "text": [
      "1\n",
      "2\n",
      "3\n",
      "4\n",
      "sarah\n",
      "george\n",
      "bob\n",
      "adam\n"
     ]
    }
   ],
   "source": [
    "#Iteration\n",
    "tuple1=(1, 2, 3, 4, 'sarah', 'george', 'bob', 'adam')\n",
    "for i in tuple1:\n",
    "    print(i)"
   ]
  },
  {
   "cell_type": "markdown",
   "metadata": {},
   "source": [
    "Indexing, slicing and deleting of a tuple is same as list"
   ]
  },
  {
   "cell_type": "markdown",
   "metadata": {},
   "source": [
    "Built-in Tuple Functions\n",
    "\n",
    "cmp(tuple1, tuple2)-Compares two tuples\n",
    "\n",
    "len(tuple)-Returns the length of the tuple\n",
    "\n",
    "max(tuple)-Returns the item with the maximum value\n",
    "\n",
    "min(tuple)-Returns the item with the minimum value\n",
    "\n",
    "tuple(seq)-Converts a list into a tuple\n"
   ]
  },
  {
   "cell_type": "markdown",
   "metadata": {},
   "source": [
    "Set\n",
    "\n",
    "A set is a collection which is unordered and unindexed.\n",
    "\n",
    "A Python set is similar to this mathematical definition with below additional conditions.\n",
    "\n",
    "    The elements in the set cannot be duplicates.\n",
    "    \n",
    "    The elements in the set are immutable (cannot be modified) but the set as a whole is mutable.\n",
    "    \n",
    "    There is no index attached to any element in a python set. So they do not support any indexing or slicing operation.\n",
    "    \n",
    "In Python sets are written with curly brackets."
   ]
  },
  {
   "cell_type": "code",
   "execution_count": 99,
   "metadata": {},
   "outputs": [
    {
     "name": "stdout",
     "output_type": "stream",
     "text": [
      "{'john', 'adam', 'bob', 'alice'}\n"
     ]
    }
   ],
   "source": [
    "set1={'john','bob','adam','alice'}\n",
    "print(set1)"
   ]
  },
  {
   "cell_type": "markdown",
   "metadata": {},
   "source": [
    "Frozen Sets\n",
    "\n",
    "Frozen sets in Python are immutable objects that only support methods and operators that produce a result without affecting the frozen set or sets to which they are applied. While elements of a set can be modified at any time, elements of the frozen set remain the same after creation.\n",
    "If no parameters are passed, it returns an empty frozenset."
   ]
  },
  {
   "cell_type": "code",
   "execution_count": 101,
   "metadata": {},
   "outputs": [
    {
     "name": "stdout",
     "output_type": "stream",
     "text": [
      "frozenset({'john', 'adam', 'bob'})\n"
     ]
    },
    {
     "ename": "AttributeError",
     "evalue": "'frozenset' object has no attribute 'add'",
     "output_type": "error",
     "traceback": [
      "\u001b[1;31m---------------------------------------------------------------------------\u001b[0m",
      "\u001b[1;31mAttributeError\u001b[0m                            Traceback (most recent call last)",
      "\u001b[1;32m<ipython-input-101-db94d993037c>\u001b[0m in \u001b[0;36m<module>\u001b[1;34m\u001b[0m\n\u001b[0;32m      1\u001b[0m \u001b[0mfrozen_set\u001b[0m \u001b[1;33m=\u001b[0m \u001b[0mfrozenset\u001b[0m\u001b[1;33m(\u001b[0m\u001b[1;33m[\u001b[0m\u001b[1;34m'john'\u001b[0m\u001b[1;33m,\u001b[0m\u001b[1;34m'bob'\u001b[0m\u001b[1;33m,\u001b[0m\u001b[1;34m'adam'\u001b[0m\u001b[1;33m]\u001b[0m\u001b[1;33m)\u001b[0m\u001b[1;33m\u001b[0m\u001b[1;33m\u001b[0m\u001b[0m\n\u001b[0;32m      2\u001b[0m \u001b[0mprint\u001b[0m\u001b[1;33m(\u001b[0m\u001b[0mfrozen_set\u001b[0m\u001b[1;33m)\u001b[0m\u001b[1;33m\u001b[0m\u001b[1;33m\u001b[0m\u001b[0m\n\u001b[1;32m----> 3\u001b[1;33m \u001b[0mprint\u001b[0m\u001b[1;33m(\u001b[0m\u001b[0mfrozen_set\u001b[0m\u001b[1;33m.\u001b[0m\u001b[0madd\u001b[0m\u001b[1;33m(\u001b[0m\u001b[1;34m'sarah'\u001b[0m\u001b[1;33m)\u001b[0m\u001b[1;33m)\u001b[0m\u001b[1;33m\u001b[0m\u001b[1;33m\u001b[0m\u001b[0m\n\u001b[0m",
      "\u001b[1;31mAttributeError\u001b[0m: 'frozenset' object has no attribute 'add'"
     ]
    }
   ],
   "source": [
    "frozen_set = frozenset(['john','bob','adam'])\n",
    "print(frozen_set.add('sarah'))"
   ]
  },
  {
   "cell_type": "markdown",
   "metadata": {},
   "source": [
    "Internal working of Set\n",
    "\n",
    "This is based on a data structure known as a hash table.\n",
    "If multiple values are present at the same index position, then the value is appended to that index position, to form a Linked List."
   ]
  },
  {
   "cell_type": "markdown",
   "metadata": {},
   "source": [
    "1. Adding Items to a Set\n",
    "\n",
    "    We can add elements to a set by using add() method."
   ]
  },
  {
   "cell_type": "code",
   "execution_count": 63,
   "metadata": {},
   "outputs": [
    {
     "name": "stdout",
     "output_type": "stream",
     "text": [
      "{'adam', 'steve', 'bob', 'alice', 'john'}\n"
     ]
    }
   ],
   "source": [
    "set1={'john','bob','adam','alice'}\n",
    "set1.add('steve')\n",
    "print(set1)"
   ]
  },
  {
   "cell_type": "markdown",
   "metadata": {},
   "source": [
    "2. Removing Item from a Set\n",
    "\n",
    "    We can remove elements from a set by using discard() method.\n"
   ]
  },
  {
   "cell_type": "code",
   "execution_count": 64,
   "metadata": {},
   "outputs": [
    {
     "name": "stdout",
     "output_type": "stream",
     "text": [
      "{'adam', 'bob', 'alice'}\n"
     ]
    }
   ],
   "source": [
    "set1={'john','bob','adam','alice'}\n",
    "set1.discard('john')\n",
    "print(set1)"
   ]
  },
  {
   "cell_type": "markdown",
   "metadata": {},
   "source": [
    "3. Union of Sets\n",
    "\n",
    "    The union operation on two sets produces a new set containing all the distinct elements from both the sets.\n"
   ]
  },
  {
   "cell_type": "code",
   "execution_count": 65,
   "metadata": {},
   "outputs": [
    {
     "name": "stdout",
     "output_type": "stream",
     "text": [
      "{'adam', 'bob', 'alice', 'john', 'alan', 'sarah'}\n"
     ]
    }
   ],
   "source": [
    "set1={'john','bob','adam','alice'}\n",
    "set2={'adam','bob','alan','sarah'}\n",
    "print(set1|set2)#we can also use union() function"
   ]
  },
  {
   "cell_type": "markdown",
   "metadata": {},
   "source": [
    "4. Intersection of Sets\n",
    "\n",
    "    The intersection operation on two sets produces a new set containing only the common elements from both the sets.\n"
   ]
  },
  {
   "cell_type": "code",
   "execution_count": 66,
   "metadata": {},
   "outputs": [
    {
     "name": "stdout",
     "output_type": "stream",
     "text": [
      "{'adam', 'bob'}\n"
     ]
    }
   ],
   "source": [
    "set1={'john','bob','adam','alice'}\n",
    "set2={'adam','bob','alan','sarah'}\n",
    "print(set1&set2)#we can also use intersection() function"
   ]
  },
  {
   "cell_type": "markdown",
   "metadata": {},
   "source": [
    "5. Difference of Sets\n",
    "\n",
    "    The difference operation on two sets produces a new set containing only the elements from the first set and none from the second set.\n"
   ]
  },
  {
   "cell_type": "code",
   "execution_count": 67,
   "metadata": {},
   "outputs": [
    {
     "name": "stdout",
     "output_type": "stream",
     "text": [
      "{'john', 'alice'}\n"
     ]
    }
   ],
   "source": [
    "set1={'john','bob','adam','alice'}\n",
    "set2={'adam','bob','alan','sarah'}\n",
    "print(set1-set2)#we can also use difference() function"
   ]
  },
  {
   "cell_type": "markdown",
   "metadata": {},
   "source": [
    "6. Clearing sets\n",
    "\n",
    "    Clear() method empties the whole set.\n"
   ]
  },
  {
   "cell_type": "code",
   "execution_count": 68,
   "metadata": {},
   "outputs": [
    {
     "name": "stdout",
     "output_type": "stream",
     "text": [
      "None\n"
     ]
    }
   ],
   "source": [
    "set1={'john','bob','adam','alice'}\n",
    "print(set1.clear())"
   ]
  },
  {
   "cell_type": "markdown",
   "metadata": {},
   "source": [
    "Operators for Sets\n",
    "\n",
    "key in s-containment check\n",
    "\n",
    "key not in s-non-containment check\n",
    "\n",
    "s1 == s2-s1 is equivalent to s2\n",
    "\n",
    "s1 != s2-s1 is not equivalent to s2\n",
    "\n",
    "s1 <= s2-s1 is subset of s2\n",
    "\n",
    "s1 < s2-s1 is proper subset of s2\n",
    "\n",
    "s1 >= s2-s1 is superset of s2\n",
    "\n",
    "s1 > s2-s1 is proper superset of s2\n",
    "\n",
    "s1 | s2-the union of s1 and s2\n",
    "\n",
    "s1 & s2-the intersection of s1 and s2\n",
    "\n",
    "s1 – s2-the set of elements in s1 but not s2\n",
    "\n",
    "s1 ˆ s2-the set of elements in precisely one of s1 or s2\n",
    "\n"
   ]
  },
  {
   "cell_type": "markdown",
   "metadata": {},
   "source": [
    "Set Methods\n",
    "\n",
    "Python has a set of built-in methods that you can use on sets.\n",
    "\n",
    "add()-Adds an element to the set\n",
    "\n",
    "clear()-Removes all the elements from the set\n",
    "\n",
    "copy()-Returns a copy of the set\n",
    "\n",
    "difference()-Returns a set containing the difference between two or more sets\n",
    "\n",
    "difference_update()-Removes the items in this set that are also included in another, specified set\n",
    "\n",
    "discard()-Remove the specified item\n",
    "\n",
    "intersection()-Returns a set, that is the intersection of two other sets\n",
    "\n",
    "intersection_update()-Removes the items in this set that are not present in other, specified set(s)\n",
    "\n",
    "isdisjoint()-Returns whether two sets have an intersection or not\n",
    "\n",
    "issubset()-Returns whether another set contains this set or not\n",
    "\n",
    "issuperset()-Returns whether this set contains another set or not\n",
    "\n",
    "pop()-Removes an element from the set\n",
    "\n",
    "remove()-Removes the specified element\n",
    "\n",
    "symmetric_difference()-Returns a set with the symmetric differences of two sets\n",
    "\n",
    "symmetric_difference_update()-inserts the symmetric differences from this set and another\n",
    "\n",
    "union()-Return a set containing the union of sets\n",
    "\n",
    "update()-Update the set with the union of this set and others\n"
   ]
  },
  {
   "cell_type": "markdown",
   "metadata": {},
   "source": [
    "Dictionary\n",
    "\n",
    "A dictionary is a collection which is unordered, changeable and indexed. In Python, dictionaries are written with curly brackets, and they have keys and values. Each key is separated from its value by a colon (:), the items are separated by commas.\n"
   ]
  },
  {
   "cell_type": "code",
   "execution_count": 72,
   "metadata": {},
   "outputs": [
    {
     "name": "stdout",
     "output_type": "stream",
     "text": [
      "{'name': 'bob', 'year': 2009, 'location': 'tacoma'}\n"
     ]
    }
   ],
   "source": [
    "dict1={'name':'bob','year':2009, 'location':'tacoma'}\n",
    "print(dict1)"
   ]
  },
  {
   "cell_type": "markdown",
   "metadata": {},
   "source": [
    "Accessing Values in Dictionary\n",
    "\n",
    "We can access the items of a dictionary by referring to its key name, inside square brackets"
   ]
  },
  {
   "cell_type": "code",
   "execution_count": 74,
   "metadata": {},
   "outputs": [
    {
     "name": "stdout",
     "output_type": "stream",
     "text": [
      "tacoma\n"
     ]
    }
   ],
   "source": [
    "dict1={'name':'bob','year':2009, 'location':'tacoma'}\n",
    "print(dict1['location'])"
   ]
  },
  {
   "cell_type": "code",
   "execution_count": 75,
   "metadata": {},
   "outputs": [
    {
     "name": "stdout",
     "output_type": "stream",
     "text": [
      "bob\n"
     ]
    }
   ],
   "source": [
    "print(dict1.get('name'))#using get method"
   ]
  },
  {
   "cell_type": "markdown",
   "metadata": {},
   "source": [
    "Updating Dictionary\n",
    "\n",
    "You can update a dictionary by adding a new entry or a key-value pair, modifying an existing entry, or deleting an existing entry"
   ]
  },
  {
   "cell_type": "code",
   "execution_count": 76,
   "metadata": {},
   "outputs": [
    {
     "name": "stdout",
     "output_type": "stream",
     "text": [
      "{'name': 'bob', 'year': 2010, 'location': 'tacoma'}\n"
     ]
    }
   ],
   "source": [
    "dict1={'name':'bob','year':2009, 'location':'tacoma'}\n",
    "dict1['year']=2010 #updating\n",
    "print(dict1)"
   ]
  },
  {
   "cell_type": "code",
   "execution_count": 80,
   "metadata": {},
   "outputs": [
    {
     "name": "stdout",
     "output_type": "stream",
     "text": [
      "{'name': 'bob', 'year': 2009, 'location': 'tacoma', 'age': 27}\n"
     ]
    }
   ],
   "source": [
    "dict1={'name':'bob','year':2009, 'location':'tacoma'}\n",
    "dict1['age']=27 #adding a new entry\n",
    "print(dict1)"
   ]
  },
  {
   "cell_type": "markdown",
   "metadata": {},
   "source": [
    "Delete Dictionary Elements\n",
    "\n",
    "You can either remove individual dictionary elements or clear the entire contents of a dictionary. You can also delete entire dictionary in a single operation.\n",
    "\n",
    "To explicitly remove an entire dictionary, just use the del statement."
   ]
  },
  {
   "cell_type": "code",
   "execution_count": 81,
   "metadata": {},
   "outputs": [
    {
     "name": "stdout",
     "output_type": "stream",
     "text": [
      "{'name': 'bob', 'year': 2009, 'location': 'tacoma'}\n"
     ]
    }
   ],
   "source": [
    "dict1={'name': 'bob', 'year': 2009, 'location': 'tacoma', 'age': 27}\n",
    "del dict1['age'] #removes entry with the key 'age'\n",
    "print(dict1)"
   ]
  },
  {
   "cell_type": "code",
   "execution_count": 83,
   "metadata": {},
   "outputs": [
    {
     "name": "stdout",
     "output_type": "stream",
     "text": [
      "{}\n"
     ]
    }
   ],
   "source": [
    "dict1.clear(); #removes all entries in dict1\n",
    "print(dict1)"
   ]
  },
  {
   "cell_type": "code",
   "execution_count": 84,
   "metadata": {},
   "outputs": [
    {
     "ename": "NameError",
     "evalue": "name 'dict1' is not defined",
     "output_type": "error",
     "traceback": [
      "\u001b[1;31m---------------------------------------------------------------------------\u001b[0m",
      "\u001b[1;31mNameError\u001b[0m                                 Traceback (most recent call last)",
      "\u001b[1;32m<ipython-input-84-5a23ca6bc569>\u001b[0m in \u001b[0;36m<module>\u001b[1;34m\u001b[0m\n\u001b[0;32m      1\u001b[0m \u001b[1;32mdel\u001b[0m \u001b[0mdict1\u001b[0m\u001b[1;33m\u001b[0m\u001b[1;33m\u001b[0m\u001b[0m\n\u001b[1;32m----> 2\u001b[1;33m \u001b[0mprint\u001b[0m\u001b[1;33m(\u001b[0m\u001b[0mdict1\u001b[0m\u001b[1;33m)\u001b[0m\u001b[1;33m\u001b[0m\u001b[1;33m\u001b[0m\u001b[0m\n\u001b[0m",
      "\u001b[1;31mNameError\u001b[0m: name 'dict1' is not defined"
     ]
    }
   ],
   "source": [
    "del dict1 # delete entire dictionary\n",
    "print(dict1)"
   ]
  },
  {
   "cell_type": "markdown",
   "metadata": {},
   "source": [
    "Properties of Dictionary Keys\n",
    "\n",
    "Dictionary values have no restrictions. They can be any arbitrary Python object, either standard objects or user-defined objects. However, same is not true for the keys.\n",
    "\n",
    "There are two important points to remember about dictionary keys −\n",
    "\n",
    "1. More than one entry per key not allowed. Which means no duplicate key is allowed. When duplicate keys encountered during assignment, the last assignment wins."
   ]
  },
  {
   "cell_type": "code",
   "execution_count": 90,
   "metadata": {},
   "outputs": [
    {
     "name": "stdout",
     "output_type": "stream",
     "text": [
      "{'name': 'adam', 'year': 2009, 'location': 'tacoma'}\n"
     ]
    }
   ],
   "source": [
    "dict1={'name':'bob','year':2009, 'location':'tacoma','name':'adam'}\n",
    "print(dict1)"
   ]
  },
  {
   "cell_type": "markdown",
   "metadata": {},
   "source": [
    "2. Keys must be immutable. Which means you can use strings, numbers or tuples as dictionary keys but something like ['key'] is not allowed"
   ]
  },
  {
   "cell_type": "code",
   "execution_count": 88,
   "metadata": {},
   "outputs": [
    {
     "ename": "TypeError",
     "evalue": "unhashable type: 'list'",
     "output_type": "error",
     "traceback": [
      "\u001b[1;31m---------------------------------------------------------------------------\u001b[0m",
      "\u001b[1;31mTypeError\u001b[0m                                 Traceback (most recent call last)",
      "\u001b[1;32m<ipython-input-88-2fe84eb06544>\u001b[0m in \u001b[0;36m<module>\u001b[1;34m\u001b[0m\n\u001b[1;32m----> 1\u001b[1;33m \u001b[0mdict1\u001b[0m\u001b[1;33m=\u001b[0m\u001b[1;33m{\u001b[0m\u001b[1;33m[\u001b[0m\u001b[1;34m'name'\u001b[0m\u001b[1;33m]\u001b[0m\u001b[1;33m:\u001b[0m\u001b[1;34m'bob'\u001b[0m\u001b[1;33m,\u001b[0m\u001b[1;34m'year'\u001b[0m\u001b[1;33m:\u001b[0m\u001b[1;36m2009\u001b[0m\u001b[1;33m,\u001b[0m \u001b[1;34m'location'\u001b[0m\u001b[1;33m:\u001b[0m\u001b[1;34m'tacoma'\u001b[0m\u001b[1;33m}\u001b[0m\u001b[1;33m\u001b[0m\u001b[1;33m\u001b[0m\u001b[0m\n\u001b[0m\u001b[0;32m      2\u001b[0m \u001b[0mprint\u001b[0m\u001b[1;33m(\u001b[0m\u001b[0mdict1\u001b[0m\u001b[1;33m[\u001b[0m\u001b[1;34m'name'\u001b[0m\u001b[1;33m]\u001b[0m\u001b[1;33m)\u001b[0m\u001b[1;33m\u001b[0m\u001b[1;33m\u001b[0m\u001b[0m\n",
      "\u001b[1;31mTypeError\u001b[0m: unhashable type: 'list'"
     ]
    }
   ],
   "source": [
    "dict1={['name']:'bob','year':2009, 'location':'tacoma'}\n",
    "print(dict1['name'])"
   ]
  },
  {
   "cell_type": "markdown",
   "metadata": {},
   "source": [
    "Built-in Dictionary Functions\n",
    "\n",
    "cmp(dict1, dict2)-Compares elements of both dict\n",
    "\n",
    "len(dict)-Gives the total length of the dictionary. This would be equal to the number of items in the dictionary\n",
    "\n",
    "str(dict)-Produces a printable string representation of a dictionary\n",
    "\n",
    "type(variable)-Returns the type of the passed variable. If passed variable is dictionary, then it would return a dictionary type."
   ]
  },
  {
   "cell_type": "markdown",
   "metadata": {},
   "source": [
    "Built-in Dictionary Methods\n",
    "\n",
    "dict.clear()-Removes all elements of dictionary dict\n",
    "\n",
    "dict.copy()-Returns a shallow copy of dictionary dict\n",
    "\n",
    "dict.fromkeys()-Create a new dictionary with keys from seq and values set to value.\n",
    "\n",
    "dict.get(key, default=None)-For 'key' key, returns value or default if key not in dictionary\n",
    "\n",
    "dict.has_key(key)-Returns true if key in dictionary dict, false otherwise\n",
    "\n",
    "dict.items()-Returns a list of dict's (key, value) tuple pairs\n",
    "\n",
    "dict.keys()-Returns list of dictionary dict's keys\n",
    "\n",
    "dict.setdefault(key, default=None)-Similar to get(), but will set dict[key]=default if key is not already in dict\n",
    "\n",
    "dict.update(dict2)-Adds dictionary dict2's key-values pairs to dict\n",
    "\n",
    "dict.values()-Returns list of dictionary dict's values"
   ]
  },
  {
   "cell_type": "code",
   "execution_count": 91,
   "metadata": {},
   "outputs": [
    {
     "name": "stdout",
     "output_type": "stream",
     "text": [
      "{'name': {'adam:30', 'bob:27'}, 'year': 2009, 'location': 'tacoma'}\n"
     ]
    }
   ],
   "source": [
    "#Nested Dictionaries\n",
    "dict1={'name':{'bob:27','adam:30'},'year':2009, 'location':'tacoma',}\n",
    "print(dict1)"
   ]
  },
  {
   "cell_type": "code",
   "execution_count": 92,
   "metadata": {},
   "outputs": [
    {
     "name": "stdout",
     "output_type": "stream",
     "text": [
      "{'name': 'alice', 'year': 1997}\n"
     ]
    }
   ],
   "source": [
    "#using dict() constructor to make a new dictionary\n",
    "dict1=dict(name='alice', year=1997)\n",
    "print(dict1)"
   ]
  },
  {
   "cell_type": "code",
   "execution_count": 95,
   "metadata": {},
   "outputs": [
    {
     "name": "stdout",
     "output_type": "stream",
     "text": [
      "name bob\n",
      "year 2009\n",
      "location tacoma\n"
     ]
    }
   ],
   "source": [
    "#using for, items() to print all key value pairs\n",
    "dict1={'name':'bob','year':2009, 'location':'tacoma'}\n",
    "for name,year in dict1.items():\n",
    "    print(name,year)"
   ]
  },
  {
   "cell_type": "markdown",
   "metadata": {},
   "source": [
    "Using pop() method\n",
    "\n",
    "Pop() method is used to return and delete the value of the key specified"
   ]
  },
  {
   "cell_type": "code",
   "execution_count": 97,
   "metadata": {},
   "outputs": [
    {
     "name": "stdout",
     "output_type": "stream",
     "text": [
      "bob\n",
      "{'year': 2009, 'location': 'tacoma'}\n"
     ]
    }
   ],
   "source": [
    "dict1={'name':'bob','year':2009, 'location':'tacoma'}\n",
    "print(dict1.pop('name'))\n",
    "print(dict1)"
   ]
  },
  {
   "cell_type": "markdown",
   "metadata": {},
   "source": [
    "Differences between list and set and tuple and dictionary\n",
    "\n",
    "List\n",
    "\n",
    "List is a collection which is ordered\n",
    "\n",
    "Lists are mutable (changeable) \n",
    "\n",
    "Allows duplicate members\n",
    "\n",
    "Brackets used to represent: []\n",
    "\n",
    "\n",
    "\n",
    "Tuples\n",
    "\n",
    "Collection of items which is ordered\n",
    "\n",
    "Tuples are immutable (unchangeable) \n",
    "\n",
    "Brackets used to represent: ()\n",
    "    \n",
    "Only difference between tuples and lists are that lists can be changed\n",
    "\n",
    "\n",
    "\n",
    "Sets\n",
    "\n",
    "Collection of Unordered and Unindexed items\n",
    "\n",
    "Sets are mutable (changeable)\n",
    "\n",
    "Does not take duplicate Values\n",
    "\n",
    "Sets are unordered, so you cannot be sure in which order the items will appear\n",
    "\n",
    "Brackets used to represent: { }\n",
    "    \n",
    "\n",
    "Dictionaries\n",
    "\n",
    "A dictionary is a collection which is unordered, changeable and indexed.\n",
    "\n",
    "Values in a dictionary can be of any datatype and can be duplicated, whereas keys can’t be repeated and must be immutable\n",
    "    \n",
    "In Python dictionaries are written with curly brackets, and they have keys and values\n",
    "\n",
    "Brackets used to represent: {}\n",
    "    "
   ]
  },
  {
   "cell_type": "code",
   "execution_count": null,
   "metadata": {},
   "outputs": [],
   "source": []
  }
 ],
 "metadata": {
  "kernelspec": {
   "display_name": "Python 3",
   "language": "python",
   "name": "python3"
  },
  "language_info": {
   "codemirror_mode": {
    "name": "ipython",
    "version": 3
   },
   "file_extension": ".py",
   "mimetype": "text/x-python",
   "name": "python",
   "nbconvert_exporter": "python",
   "pygments_lexer": "ipython3",
   "version": "3.7.4"
  }
 },
 "nbformat": 4,
 "nbformat_minor": 2
}
